{
 "cells": [
  {
   "cell_type": "markdown",
   "metadata": {},
   "source": [
    "# Last modified on Wed Jun  7 18:16:33 2017\n",
    "### @author: mohit vellanki\n",
    "\n"
   ]
  },
  {
   "cell_type": "code",
   "execution_count": 1,
   "metadata": {
    "collapsed": true
   },
   "outputs": [],
   "source": [
    "#all the imports to be imported.\n",
    "import pandas as pd\n",
    "from sklearn.model_selection import StratifiedKFold\n",
    "from sklearn.naive_bayes import GaussianNB\n",
    "from sklearn.tree import DecisionTreeClassifier\n",
    "from sklearn.linear_model import LogisticRegression\n",
    "from sklearn.metrics import accuracy_score, f1_score\n",
    "import statistics\n",
    "from time import clock"
   ]
  },
  {
   "cell_type": "code",
   "execution_count": 2,
   "metadata": {
    "collapsed": true
   },
   "outputs": [],
   "source": [
    "#Lists for storing the results\n",
    "acc_NB = []\n",
    "acc_DT = []\n",
    "acc_LR = []\n",
    "fm_NB = []\n",
    "fm_DT = []\n",
    "fm_LR = []\n",
    "t_NB = []\n",
    "t_DT = []\n",
    "t_LR = []\n",
    "\n",
    "#Importing and splitting data\n",
    "columns = ['word_freq_make', 'word_freq_address', 'word_freq_all', 'word_freq_3d', 'word_freq_our', 'word_freq_over', 'word_freq_remove', 'word_freq_internet', 'word_freq_order', 'word_freq_mail', 'word_freq_receive', 'word_freq_will', 'word_freq_people', 'word_freq_report', 'word_freq_addresses', 'word_freq_free', 'word_freq_business', 'word_freq_email', 'word_freq_you', 'word_freq_credit', 'word_freq_your', 'word_freq_font', 'word_freq_000', 'word_freq_money', 'word_freq_hp', 'word_freq_hpl', 'word_freq_george', 'word_freq_650', 'word_freq_lab', 'word_freq_labs', 'word_freq_telnet', 'word_freq_857', 'word_freq_data', 'word_freq_415', 'word_freq_85', 'word_freq_technology', 'word_freq_1999', 'word_freq_parts', 'word_freq_pm', 'word_freq_direct', 'word_freq_cs', 'word_freq_meeting', 'word_freq_original', 'word_freq_project', 'word_freq_re', 'word_freq_edu', 'word_freq_table', 'word_freq_conference', 'char_freq_;', 'char_freq_(', 'char_freq_[', 'char_freq_!', 'char_freq_$', 'char_freq_#', 'capital_run_length_average', 'capital_run_length_longest', 'capital_run_length_total', 'spam']\n",
    "data = pd.read_csv(\"spambase.data\",  delimiter=\",\",names=columns)\n",
    "X = data.iloc[:,0:57]\n",
    "y = data['spam']"
   ]
  },
  {
   "cell_type": "code",
   "execution_count": 3,
   "metadata": {},
   "outputs": [
    {
     "data": {
      "text/plain": [
       "10"
      ]
     },
     "execution_count": 3,
     "metadata": {},
     "output_type": "execute_result"
    }
   ],
   "source": [
    "#Creating instances of classifiers\n",
    "clf_NB = GaussianNB()\n",
    "clf_DT = DecisionTreeClassifier()\n",
    "clf_LR = LogisticRegression()\n",
    "\n",
    "#Creating stratified folds\n",
    "skf = StratifiedKFold(n_splits=10)\n",
    "skf.get_n_splits(X,y)"
   ]
  },
  {
   "cell_type": "code",
   "execution_count": 4,
   "metadata": {},
   "outputs": [
    {
     "name": "stdout",
     "output_type": "stream",
     "text": [
      "============\n",
      "Table 1\n",
      "\n",
      "The average accuracy per fold is\n",
      "============\n",
      "____________________________________________________________________\n",
      "Folds\t\tNaive Bayes\tDecision Tree\tLogistic Regression\n",
      "____________________________________________________________________\n",
      "1 \t\t0.8438 \t\t0.9219 \t\t0.9306\n",
      "2 \t\t0.8590 \t\t0.9176 \t\t0.9241\n",
      "3 \t\t0.8829 \t\t0.8980 \t\t0.9176\n",
      "4 \t\t0.8652 \t\t0.9152 \t\t0.9457\n",
      "5 \t\t0.8848 \t\t0.9217 \t\t0.9326\n",
      "6 \t\t0.8283 \t\t0.9391 \t\t0.9348\n",
      "7 \t\t0.8326 \t\t0.9391 \t\t0.9565\n",
      "8 \t\t0.8674 \t\t0.9130 \t\t0.9391\n",
      "9 \t\t0.6340 \t\t0.8366 \t\t0.8497\n",
      "10 \t\t0.7190 \t\t0.8214 \t\t0.8562\n",
      "______________________________________________________\n",
      "avg  \t\t0.8217 \t\t0.9024 \t\t0.9187\n",
      "stdev \t\t0.0813 \t\t0.0406 \t\t0.0363\n",
      "============\n",
      "Table 2\n",
      "\n",
      "The average training time is (In seconds)\n",
      "============\n",
      "____________________________________________________________________\n",
      "Folds\t\tNaive Bayes\tDecision Tree\tLogistic Regression\n",
      "____________________________________________________________________\n",
      "1 \t\t0.0070 \t\t0.0790 \t\t0.0860\n",
      "2 \t\t0.0750 \t\t0.2560 \t\t0.1480\n",
      "3 \t\t0.0320 \t\t0.4010 \t\t0.1610\n",
      "4 \t\t0.0310 \t\t0.5020 \t\t0.1120\n",
      "5 \t\t0.0260 \t\t0.3700 \t\t0.2490\n",
      "6 \t\t0.0200 \t\t0.4130 \t\t0.1800\n",
      "7 \t\t0.0310 \t\t0.3800 \t\t0.2280\n",
      "8 \t\t0.0260 \t\t0.3590 \t\t0.1000\n",
      "9 \t\t0.0290 \t\t0.3450 \t\t0.1300\n",
      "10 \t\t0.0240 \t\t0.4270 \t\t0.0800\n",
      "______________________________________________________\n",
      "avg\t\t 0.03 \t\t 0.353 \t\t 0.147\n",
      "stdev\t\t 0.017 \t\t 0.115 \t\t 0.058\n",
      "============\n",
      "Table 3\n",
      "\n",
      "The average F-measure/F1 score is \n",
      "============\n",
      "____________________________________________________________________\n",
      "Folds\t\tNaive Bayes\tDecision Tree\tLogistic Regression\n",
      "____________________________________________________________________\n",
      "1 \t\t0.8294 \t\t0.8977 \t\t0.9080\n",
      "2 \t\t0.8456 \t\t0.8927 \t\t0.9003\n",
      "3 \t\t0.8683 \t\t0.8683 \t\t0.8939\n",
      "4 \t\t0.8517 \t\t0.8926 \t\t0.9307\n",
      "5 \t\t0.8658 \t\t0.9011 \t\t0.9141\n",
      "6 \t\t0.8192 \t\t0.9231 \t\t0.9194\n",
      "7 \t\t0.8205 \t\t0.9186 \t\t0.9429\n",
      "8 \t\t0.8479 \t\t0.8925 \t\t0.9218\n",
      "9 \t\t0.6693 \t\t0.8101 \t\t0.8179\n",
      "10 \t\t0.7127 \t\t0.7842 \t\t0.8136\n",
      "____________________________________________________________________\n",
      "avg\t\t 0.813 \t\t 0.878 \t\t 0.896\n",
      "stdev\t\t 0.067 \t\t 0.046 \t\t 0.045\n"
     ]
    }
   ],
   "source": [
    "#Printing the results\n",
    "print(\"============\")\n",
    "print(\"Table 1\")\n",
    "print(\"\\nThe average accuracy per fold is\")\n",
    "print(\"============\")\n",
    "print(\"____________________________________________________________________\")\n",
    "print(\"Folds\\t\\tNaive Bayes\\tDecision Tree\\tLogistic Regression\")\n",
    "print(\"____________________________________________________________________\")\n",
    "i=1    \n",
    "for train_index, test_index in skf.split(X,y):\n",
    "    X_train, X_test = X.iloc[train_index], X.iloc[test_index]\n",
    "    y_train, y_test = y[train_index], y[test_index]\n",
    "    \n",
    "    start_time = clock()\n",
    "    clf_NB.fit(X_train, y_train)\n",
    "    t_NB.append(round(clock()-start_time,3))\n",
    "    pred = clf_NB.predict(X_test)\n",
    "    a = round(accuracy_score(y_test, pred),4)\n",
    "    acc_NB.append(a)\n",
    "    a1 = f1_score(y_test, pred)\n",
    "    fm_NB.append(a1)\n",
    "    \n",
    "    start_time = clock()\n",
    "    clf_DT.fit(X_train, y_train)\n",
    "    t_DT.append(round(clock() - start_time,3))\n",
    "    pred = clf_DT.predict(X_test)\n",
    "    b = round(accuracy_score(y_test, pred),4)\n",
    "    acc_DT.append(b)\n",
    "    b1 = f1_score(y_test, pred)\n",
    "    fm_DT.append(b1)\n",
    "    \n",
    "    start_time = clock()\n",
    "    clf_LR.fit(X_train, y_train)\n",
    "    t_LR.append(round(clock() - start_time,3))\n",
    "    pred = clf_LR.predict(X_test)\n",
    "    c = round(accuracy_score(y_test, pred),4)\n",
    "    acc_LR.append(c)\n",
    "    c1 = f1_score(y_test, pred)\n",
    "    fm_LR.append(c1)\n",
    "    \n",
    "    print(i,\"\\t\\t%.4f\"%a,\"\\t\\t%.4f\"%b,\"\\t\\t%.4f\"%c)\n",
    "    i=i+1\n",
    "\n",
    "print(\"______________________________________________________\")\n",
    "print(\"avg \",\"\\t\\t%.4f\"%(round(statistics.mean(acc_NB),4)),\"\\t\\t%.4f\"%(round(statistics.mean(acc_DT),4)),\"\\t\\t%.4f\"%(round(statistics.mean(acc_LR),4)))\n",
    "print(\"stdev\",\"\\t\\t%.4f\"%(round(statistics.stdev(acc_NB),4)),\"\\t\\t%.4f\"%(round(statistics.stdev(acc_DT),4)),\"\\t\\t%.4f\"%(round(statistics.stdev(acc_LR),4)))\n",
    "\n",
    "print(\"============\")\n",
    "print(\"Table 2\")\n",
    "print(\"\\nThe average training time is (In seconds)\")\n",
    "print(\"============\")\n",
    "print(\"____________________________________________________________________\")\n",
    "print(\"Folds\\t\\tNaive Bayes\\tDecision Tree\\tLogistic Regression\")\n",
    "print(\"____________________________________________________________________\")\n",
    "for i in range(0,10):\n",
    "    print(i+1,\"\\t\\t%.4f\"%t_NB[i],\"\\t\\t%.4f\"%t_DT[i],\"\\t\\t%.4f\"%t_LR[i])\n",
    "print(\"______________________________________________________\")\n",
    "print(\"avg\\t\\t\",round(statistics.mean(t_NB),3),\"\\t\\t\",round(statistics.mean(t_DT),3),\"\\t\\t\",round(statistics.mean(t_LR),3))\n",
    "print(\"stdev\\t\\t\",round(statistics.stdev(t_NB),3),\"\\t\\t\",round(statistics.stdev(t_DT),3),\"\\t\\t\",round(statistics.stdev(t_LR),3))\n",
    "\n",
    "print(\"============\")\n",
    "print(\"Table 3\")\n",
    "print(\"\\nThe average F-measure/F1 score is \")\n",
    "print(\"============\")\n",
    "print(\"____________________________________________________________________\")\n",
    "print(\"Folds\\t\\tNaive Bayes\\tDecision Tree\\tLogistic Regression\")\n",
    "print(\"____________________________________________________________________\")\n",
    "for i in range(0,10):\n",
    "     print(i+1,\"\\t\\t%.4f\"%fm_NB[i],\"\\t\\t%.4f\"%fm_DT[i],\"\\t\\t%.4f\"%fm_LR[i])\n",
    "print(\"____________________________________________________________________\")\n",
    "print(\"avg\\t\\t\",round(statistics.mean(fm_NB),3),\"\\t\\t\",round(statistics.mean(fm_DT),3),\"\\t\\t\",round(statistics.mean(fm_LR),3))\n",
    "print(\"stdev\\t\\t\",round(statistics.stdev(fm_NB),3),\"\\t\\t\",round(statistics.stdev(fm_DT),3),\"\\t\\t\",round(statistics.stdev(fm_LR),3))\n"
   ]
  }
 ],
 "metadata": {
  "kernelspec": {
   "display_name": "Python 3",
   "language": "python",
   "name": "python3"
  },
  "language_info": {
   "codemirror_mode": {
    "name": "ipython",
    "version": 3
   },
   "file_extension": ".py",
   "mimetype": "text/x-python",
   "name": "python",
   "nbconvert_exporter": "python",
   "pygments_lexer": "ipython3",
   "version": "3.6.2"
  }
 },
 "nbformat": 4,
 "nbformat_minor": 2
}
